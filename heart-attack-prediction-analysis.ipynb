{
 "cells": [
  {
   "cell_type": "markdown",
   "metadata": {},
   "source": [
    "# Heart Attack Prediction in India"
   ]
  },
  {
   "cell_type": "markdown",
   "metadata": {},
   "source": [
    "## DSCI 310 Group Project"
   ]
  },
  {
   "cell_type": "markdown",
   "metadata": {},
   "source": [
    "## By: Chengyou Xiang, Junhao Wen, Peng Zhong, ZiXun Fang"
   ]
  },
  {
   "cell_type": "markdown",
   "metadata": {},
   "source": [
    "## 1. Summary"
   ]
  },
  {
   "cell_type": "markdown",
   "metadata": {},
   "source": [
    "## 2. Introduction"
   ]
  },
  {
   "cell_type": "markdown",
   "metadata": {},
   "source": [
    "### Background Information\n",
    "\n",
    "The dataset includes 26 attributes:\n",
    "1. Patient ID\n",
    "2. State Name\n",
    "3. Age\n",
    "4. Gender\n",
    "5. Diabetes\n",
    "6. Hypertension\n",
    "7. Obesity\n",
    "8. Smoking\n",
    "9. Alcohol Consumption\n",
    "10. Physical Activity \n",
    "11. Diet Score\n",
    "12. Cholesterol Level\n",
    "13. Tryglyceride Level\n",
    "14. LDL Level\n",
    "15. HDL Level\n",
    "16. Systolic BP\n",
    "17. Diastolic BP\n",
    "18. Air Pollution Exposure\n",
    "19. Family History\n",
    "20. Stress Level\n",
    "21. Healthcare Access\n",
    "22. Heart Attack History\n",
    "23. Emergency Response Time\n",
    "24. Annual Income\n",
    "25. Health Insurance\n",
    "26. Heart Attack Risk"
   ]
  },
  {
   "cell_type": "markdown",
   "metadata": {},
   "source": [
    "## 3. Methods & Results"
   ]
  },
  {
   "cell_type": "markdown",
   "metadata": {},
   "source": [
    "### Exploratory Data Analysis (EDA)"
   ]
  },
  {
   "cell_type": "markdown",
   "metadata": {},
   "source": []
  },
  {
   "cell_type": "code",
   "execution_count": 12,
   "metadata": {
    "vscode": {
     "languageId": "r"
    }
   },
   "outputs": [
    {
     "name": "stderr",
     "output_type": "stream",
     "text": [
      "Warning message:\n",
      "\"packages 'tidyverse', 'repr', 'broom', 'GGally', 'glmnet' are in use and will not be installed\"\n",
      "Installing package into 'C:/Users/Surface/AppData/Local/R/win-library/4.4'\n",
      "(as 'lib' is unspecified)\n",
      "\n"
     ]
    },
    {
     "name": "stdout",
     "output_type": "stream",
     "text": [
      "package 'corrplot' successfully unpacked and MD5 sums checked\n",
      "\n",
      "The downloaded binary packages are in\n",
      "\tC:\\Users\\Surface\\AppData\\Local\\Temp\\RtmpGyYPF0\\downloaded_packages\n"
     ]
    }
   ],
   "source": [
    "install.packages(c(\"tidyverse\", \"repr\", \"broom\", \"GGally\", \"glmnet\", \"corrplot\"))"
   ]
  },
  {
   "cell_type": "code",
   "execution_count": 13,
   "metadata": {
    "vscode": {
     "languageId": "r"
    }
   },
   "outputs": [
    {
     "name": "stderr",
     "output_type": "stream",
     "text": [
      "corrplot 0.95 loaded\n",
      "\n"
     ]
    }
   ],
   "source": [
    "library(tidyverse)\n",
    "library(repr)\n",
    "library(broom)\n",
    "library(GGally)\n",
    "library(glmnet)\n",
    "library(dplyr)\n",
    "library(ggplot2)\n",
    "library(corrplot)"
   ]
  },
  {
   "cell_type": "code",
   "execution_count": 14,
   "metadata": {
    "vscode": {
     "languageId": "r"
    }
   },
   "outputs": [
    {
     "name": "stderr",
     "output_type": "stream",
     "text": [
      "\u001b[1mRows: \u001b[22m\u001b[34m10000\u001b[39m \u001b[1mColumns: \u001b[22m\u001b[34m26\u001b[39m\n",
      "\u001b[36m──\u001b[39m \u001b[1mColumn specification\u001b[22m \u001b[36m────────────────────────────────────────────────────────\u001b[39m\n",
      "\u001b[1mDelimiter:\u001b[22m \",\"\n",
      "\u001b[31mchr\u001b[39m  (2): State_Name, Gender\n",
      "\u001b[32mdbl\u001b[39m (24): Patient_ID, Age, Diabetes, Hypertension, Obesity, Smoking, Alcohol...\n",
      "\n",
      "\u001b[36mℹ\u001b[39m Use `spec()` to retrieve the full column specification for this data.\n",
      "\u001b[36mℹ\u001b[39m Specify the column types or set `show_col_types = FALSE` to quiet this message.\n"
     ]
    }
   ],
   "source": [
    "heart_attack_data <- read_csv(\"data/heart_attack_prediction_india.csv\")"
   ]
  },
  {
   "cell_type": "code",
   "execution_count": 15,
   "metadata": {
    "vscode": {
     "languageId": "r"
    }
   },
   "outputs": [
    {
     "data": {
      "text/html": [
       "<style>\n",
       ".dl-inline {width: auto; margin:0; padding: 0}\n",
       ".dl-inline>dt, .dl-inline>dd {float: none; width: auto; display: inline-block}\n",
       ".dl-inline>dt::after {content: \":\\0020\"; padding-right: .5ex}\n",
       ".dl-inline>dt:not(:first-of-type) {padding-left: .5ex}\n",
       "</style><dl class=dl-inline><dt>Patient_ID</dt><dd>0</dd><dt>State_Name</dt><dd>0</dd><dt>Age</dt><dd>0</dd><dt>Gender</dt><dd>0</dd><dt>Diabetes</dt><dd>0</dd><dt>Hypertension</dt><dd>0</dd><dt>Obesity</dt><dd>0</dd><dt>Smoking</dt><dd>0</dd><dt>Alcohol_Consumption</dt><dd>0</dd><dt>Physical_Activity</dt><dd>0</dd><dt>Diet_Score</dt><dd>0</dd><dt>Cholesterol_Level</dt><dd>0</dd><dt>Triglyceride_Level</dt><dd>0</dd><dt>LDL_Level</dt><dd>0</dd><dt>HDL_Level</dt><dd>0</dd><dt>Systolic_BP</dt><dd>0</dd><dt>Diastolic_BP</dt><dd>0</dd><dt>Air_Pollution_Exposure</dt><dd>0</dd><dt>Family_History</dt><dd>0</dd><dt>Stress_Level</dt><dd>0</dd><dt>Healthcare_Access</dt><dd>0</dd><dt>Heart_Attack_History</dt><dd>0</dd><dt>Emergency_Response_Time</dt><dd>0</dd><dt>Annual_Income</dt><dd>0</dd><dt>Health_Insurance</dt><dd>0</dd><dt>Heart_Attack_Risk</dt><dd>0</dd></dl>\n"
      ],
      "text/latex": [
       "\\begin{description*}\n",
       "\\item[Patient\\textbackslash{}\\_ID] 0\n",
       "\\item[State\\textbackslash{}\\_Name] 0\n",
       "\\item[Age] 0\n",
       "\\item[Gender] 0\n",
       "\\item[Diabetes] 0\n",
       "\\item[Hypertension] 0\n",
       "\\item[Obesity] 0\n",
       "\\item[Smoking] 0\n",
       "\\item[Alcohol\\textbackslash{}\\_Consumption] 0\n",
       "\\item[Physical\\textbackslash{}\\_Activity] 0\n",
       "\\item[Diet\\textbackslash{}\\_Score] 0\n",
       "\\item[Cholesterol\\textbackslash{}\\_Level] 0\n",
       "\\item[Triglyceride\\textbackslash{}\\_Level] 0\n",
       "\\item[LDL\\textbackslash{}\\_Level] 0\n",
       "\\item[HDL\\textbackslash{}\\_Level] 0\n",
       "\\item[Systolic\\textbackslash{}\\_BP] 0\n",
       "\\item[Diastolic\\textbackslash{}\\_BP] 0\n",
       "\\item[Air\\textbackslash{}\\_Pollution\\textbackslash{}\\_Exposure] 0\n",
       "\\item[Family\\textbackslash{}\\_History] 0\n",
       "\\item[Stress\\textbackslash{}\\_Level] 0\n",
       "\\item[Healthcare\\textbackslash{}\\_Access] 0\n",
       "\\item[Heart\\textbackslash{}\\_Attack\\textbackslash{}\\_History] 0\n",
       "\\item[Emergency\\textbackslash{}\\_Response\\textbackslash{}\\_Time] 0\n",
       "\\item[Annual\\textbackslash{}\\_Income] 0\n",
       "\\item[Health\\textbackslash{}\\_Insurance] 0\n",
       "\\item[Heart\\textbackslash{}\\_Attack\\textbackslash{}\\_Risk] 0\n",
       "\\end{description*}\n"
      ],
      "text/markdown": [
       "Patient_ID\n",
       ":   0State_Name\n",
       ":   0Age\n",
       ":   0Gender\n",
       ":   0Diabetes\n",
       ":   0Hypertension\n",
       ":   0Obesity\n",
       ":   0Smoking\n",
       ":   0Alcohol_Consumption\n",
       ":   0Physical_Activity\n",
       ":   0Diet_Score\n",
       ":   0Cholesterol_Level\n",
       ":   0Triglyceride_Level\n",
       ":   0LDL_Level\n",
       ":   0HDL_Level\n",
       ":   0Systolic_BP\n",
       ":   0Diastolic_BP\n",
       ":   0Air_Pollution_Exposure\n",
       ":   0Family_History\n",
       ":   0Stress_Level\n",
       ":   0Healthcare_Access\n",
       ":   0Heart_Attack_History\n",
       ":   0Emergency_Response_Time\n",
       ":   0Annual_Income\n",
       ":   0Health_Insurance\n",
       ":   0Heart_Attack_Risk\n",
       ":   0\n",
       "\n"
      ],
      "text/plain": [
       "             Patient_ID              State_Name                     Age \n",
       "                      0                       0                       0 \n",
       "                 Gender                Diabetes            Hypertension \n",
       "                      0                       0                       0 \n",
       "                Obesity                 Smoking     Alcohol_Consumption \n",
       "                      0                       0                       0 \n",
       "      Physical_Activity              Diet_Score       Cholesterol_Level \n",
       "                      0                       0                       0 \n",
       "     Triglyceride_Level               LDL_Level               HDL_Level \n",
       "                      0                       0                       0 \n",
       "            Systolic_BP            Diastolic_BP  Air_Pollution_Exposure \n",
       "                      0                       0                       0 \n",
       "         Family_History            Stress_Level       Healthcare_Access \n",
       "                      0                       0                       0 \n",
       "   Heart_Attack_History Emergency_Response_Time           Annual_Income \n",
       "                      0                       0                       0 \n",
       "       Health_Insurance       Heart_Attack_Risk \n",
       "                      0                       0 "
      ]
     },
     "metadata": {},
     "output_type": "display_data"
    }
   ],
   "source": [
    "colSums(is.na(heart_attack_data))"
   ]
  },
  {
   "cell_type": "code",
   "execution_count": 20,
   "metadata": {
    "vscode": {
     "languageId": "r"
    }
   },
   "outputs": [
    {
     "data": {
      "text/html": [
       "<table class=\"dataframe\">\n",
       "<caption>A tibble: 6 × 23</caption>\n",
       "<thead>\n",
       "\t<tr><th scope=col>Age</th><th scope=col>Diabetes</th><th scope=col>Hypertension</th><th scope=col>Obesity</th><th scope=col>Smoking</th><th scope=col>Alcohol_Consumption</th><th scope=col>Physical_Activity</th><th scope=col>Diet_Score</th><th scope=col>Cholesterol_Level</th><th scope=col>Triglyceride_Level</th><th scope=col>⋯</th><th scope=col>Diastolic_BP</th><th scope=col>Air_Pollution_Exposure</th><th scope=col>Family_History</th><th scope=col>Stress_Level</th><th scope=col>Healthcare_Access</th><th scope=col>Heart_Attack_History</th><th scope=col>Emergency_Response_Time</th><th scope=col>Annual_Income</th><th scope=col>Health_Insurance</th><th scope=col>Heart_Attack_Risk</th></tr>\n",
       "\t<tr><th scope=col>&lt;dbl&gt;</th><th scope=col>&lt;dbl&gt;</th><th scope=col>&lt;dbl&gt;</th><th scope=col>&lt;dbl&gt;</th><th scope=col>&lt;dbl&gt;</th><th scope=col>&lt;dbl&gt;</th><th scope=col>&lt;dbl&gt;</th><th scope=col>&lt;dbl&gt;</th><th scope=col>&lt;dbl&gt;</th><th scope=col>&lt;dbl&gt;</th><th scope=col>⋯</th><th scope=col>&lt;dbl&gt;</th><th scope=col>&lt;dbl&gt;</th><th scope=col>&lt;dbl&gt;</th><th scope=col>&lt;dbl&gt;</th><th scope=col>&lt;dbl&gt;</th><th scope=col>&lt;dbl&gt;</th><th scope=col>&lt;dbl&gt;</th><th scope=col>&lt;dbl&gt;</th><th scope=col>&lt;dbl&gt;</th><th scope=col>&lt;dbl&gt;</th></tr>\n",
       "</thead>\n",
       "<tbody>\n",
       "\t<tr><td>42</td><td>0</td><td>0</td><td>1</td><td>1</td><td>0</td><td>0</td><td>9</td><td>248</td><td>125</td><td>⋯</td><td>119</td><td>1</td><td>0</td><td> 4</td><td>0</td><td>0</td><td>157</td><td> 611025</td><td>0</td><td>0</td></tr>\n",
       "\t<tr><td>26</td><td>0</td><td>0</td><td>0</td><td>0</td><td>1</td><td>1</td><td>4</td><td>272</td><td> 51</td><td>⋯</td><td>115</td><td>0</td><td>0</td><td> 7</td><td>0</td><td>0</td><td>331</td><td> 174527</td><td>0</td><td>0</td></tr>\n",
       "\t<tr><td>78</td><td>0</td><td>0</td><td>1</td><td>0</td><td>0</td><td>1</td><td>6</td><td>268</td><td>213</td><td>⋯</td><td>117</td><td>0</td><td>1</td><td>10</td><td>1</td><td>0</td><td>186</td><td>1760112</td><td>1</td><td>0</td></tr>\n",
       "\t<tr><td>58</td><td>1</td><td>0</td><td>1</td><td>0</td><td>0</td><td>1</td><td>9</td><td>224</td><td>250</td><td>⋯</td><td> 65</td><td>0</td><td>0</td><td> 1</td><td>1</td><td>1</td><td>324</td><td>1398213</td><td>0</td><td>0</td></tr>\n",
       "\t<tr><td>22</td><td>0</td><td>0</td><td>0</td><td>0</td><td>0</td><td>1</td><td>5</td><td>277</td><td>129</td><td>⋯</td><td>109</td><td>0</td><td>0</td><td> 9</td><td>0</td><td>0</td><td>209</td><td>  97987</td><td>0</td><td>1</td></tr>\n",
       "\t<tr><td>31</td><td>0</td><td>0</td><td>0</td><td>0</td><td>0</td><td>0</td><td>7</td><td>188</td><td>218</td><td>⋯</td><td> 97</td><td>0</td><td>1</td><td> 3</td><td>0</td><td>0</td><td> 93</td><td> 399442</td><td>0</td><td>0</td></tr>\n",
       "</tbody>\n",
       "</table>\n"
      ],
      "text/latex": [
       "A tibble: 6 × 23\n",
       "\\begin{tabular}{lllllllllllllllllllll}\n",
       " Age & Diabetes & Hypertension & Obesity & Smoking & Alcohol\\_Consumption & Physical\\_Activity & Diet\\_Score & Cholesterol\\_Level & Triglyceride\\_Level & ⋯ & Diastolic\\_BP & Air\\_Pollution\\_Exposure & Family\\_History & Stress\\_Level & Healthcare\\_Access & Heart\\_Attack\\_History & Emergency\\_Response\\_Time & Annual\\_Income & Health\\_Insurance & Heart\\_Attack\\_Risk\\\\\n",
       " <dbl> & <dbl> & <dbl> & <dbl> & <dbl> & <dbl> & <dbl> & <dbl> & <dbl> & <dbl> & ⋯ & <dbl> & <dbl> & <dbl> & <dbl> & <dbl> & <dbl> & <dbl> & <dbl> & <dbl> & <dbl>\\\\\n",
       "\\hline\n",
       "\t 42 & 0 & 0 & 1 & 1 & 0 & 0 & 9 & 248 & 125 & ⋯ & 119 & 1 & 0 &  4 & 0 & 0 & 157 &  611025 & 0 & 0\\\\\n",
       "\t 26 & 0 & 0 & 0 & 0 & 1 & 1 & 4 & 272 &  51 & ⋯ & 115 & 0 & 0 &  7 & 0 & 0 & 331 &  174527 & 0 & 0\\\\\n",
       "\t 78 & 0 & 0 & 1 & 0 & 0 & 1 & 6 & 268 & 213 & ⋯ & 117 & 0 & 1 & 10 & 1 & 0 & 186 & 1760112 & 1 & 0\\\\\n",
       "\t 58 & 1 & 0 & 1 & 0 & 0 & 1 & 9 & 224 & 250 & ⋯ &  65 & 0 & 0 &  1 & 1 & 1 & 324 & 1398213 & 0 & 0\\\\\n",
       "\t 22 & 0 & 0 & 0 & 0 & 0 & 1 & 5 & 277 & 129 & ⋯ & 109 & 0 & 0 &  9 & 0 & 0 & 209 &   97987 & 0 & 1\\\\\n",
       "\t 31 & 0 & 0 & 0 & 0 & 0 & 0 & 7 & 188 & 218 & ⋯ &  97 & 0 & 1 &  3 & 0 & 0 &  93 &  399442 & 0 & 0\\\\\n",
       "\\end{tabular}\n"
      ],
      "text/markdown": [
       "\n",
       "A tibble: 6 × 23\n",
       "\n",
       "| Age &lt;dbl&gt; | Diabetes &lt;dbl&gt; | Hypertension &lt;dbl&gt; | Obesity &lt;dbl&gt; | Smoking &lt;dbl&gt; | Alcohol_Consumption &lt;dbl&gt; | Physical_Activity &lt;dbl&gt; | Diet_Score &lt;dbl&gt; | Cholesterol_Level &lt;dbl&gt; | Triglyceride_Level &lt;dbl&gt; | ⋯ ⋯ | Diastolic_BP &lt;dbl&gt; | Air_Pollution_Exposure &lt;dbl&gt; | Family_History &lt;dbl&gt; | Stress_Level &lt;dbl&gt; | Healthcare_Access &lt;dbl&gt; | Heart_Attack_History &lt;dbl&gt; | Emergency_Response_Time &lt;dbl&gt; | Annual_Income &lt;dbl&gt; | Health_Insurance &lt;dbl&gt; | Heart_Attack_Risk &lt;dbl&gt; |\n",
       "|---|---|---|---|---|---|---|---|---|---|---|---|---|---|---|---|---|---|---|---|---|\n",
       "| 42 | 0 | 0 | 1 | 1 | 0 | 0 | 9 | 248 | 125 | ⋯ | 119 | 1 | 0 |  4 | 0 | 0 | 157 |  611025 | 0 | 0 |\n",
       "| 26 | 0 | 0 | 0 | 0 | 1 | 1 | 4 | 272 |  51 | ⋯ | 115 | 0 | 0 |  7 | 0 | 0 | 331 |  174527 | 0 | 0 |\n",
       "| 78 | 0 | 0 | 1 | 0 | 0 | 1 | 6 | 268 | 213 | ⋯ | 117 | 0 | 1 | 10 | 1 | 0 | 186 | 1760112 | 1 | 0 |\n",
       "| 58 | 1 | 0 | 1 | 0 | 0 | 1 | 9 | 224 | 250 | ⋯ |  65 | 0 | 0 |  1 | 1 | 1 | 324 | 1398213 | 0 | 0 |\n",
       "| 22 | 0 | 0 | 0 | 0 | 0 | 1 | 5 | 277 | 129 | ⋯ | 109 | 0 | 0 |  9 | 0 | 0 | 209 |   97987 | 0 | 1 |\n",
       "| 31 | 0 | 0 | 0 | 0 | 0 | 0 | 7 | 188 | 218 | ⋯ |  97 | 0 | 1 |  3 | 0 | 0 |  93 |  399442 | 0 | 0 |\n",
       "\n"
      ],
      "text/plain": [
       "  Age Diabetes Hypertension Obesity Smoking Alcohol_Consumption\n",
       "1 42  0        0            1       1       0                  \n",
       "2 26  0        0            0       0       1                  \n",
       "3 78  0        0            1       0       0                  \n",
       "4 58  1        0            1       0       0                  \n",
       "5 22  0        0            0       0       0                  \n",
       "6 31  0        0            0       0       0                  \n",
       "  Physical_Activity Diet_Score Cholesterol_Level Triglyceride_Level ⋯\n",
       "1 0                 9          248               125                ⋯\n",
       "2 1                 4          272                51                ⋯\n",
       "3 1                 6          268               213                ⋯\n",
       "4 1                 9          224               250                ⋯\n",
       "5 1                 5          277               129                ⋯\n",
       "6 0                 7          188               218                ⋯\n",
       "  Diastolic_BP Air_Pollution_Exposure Family_History Stress_Level\n",
       "1 119          1                      0               4          \n",
       "2 115          0                      0               7          \n",
       "3 117          0                      1              10          \n",
       "4  65          0                      0               1          \n",
       "5 109          0                      0               9          \n",
       "6  97          0                      1               3          \n",
       "  Healthcare_Access Heart_Attack_History Emergency_Response_Time Annual_Income\n",
       "1 0                 0                    157                      611025      \n",
       "2 0                 0                    331                      174527      \n",
       "3 1                 0                    186                     1760112      \n",
       "4 1                 1                    324                     1398213      \n",
       "5 0                 0                    209                       97987      \n",
       "6 0                 0                     93                      399442      \n",
       "  Health_Insurance Heart_Attack_Risk\n",
       "1 0                0                \n",
       "2 0                0                \n",
       "3 1                0                \n",
       "4 0                0                \n",
       "5 0                1                \n",
       "6 0                0                "
      ]
     },
     "metadata": {},
     "output_type": "display_data"
    }
   ],
   "source": [
    "heart_attack_data_clean <- heart_attack_data |>\n",
    "    select(-Patient_ID, -State_Name, -Gender)\n",
    "\n",
    "head(heart_attack_data_clean)"
   ]
  },
  {
   "cell_type": "code",
   "execution_count": null,
   "metadata": {
    "vscode": {
     "languageId": "r"
    }
   },
   "outputs": [],
   "source": []
  },
  {
   "cell_type": "markdown",
   "metadata": {},
   "source": [
    "## 4. Discussion"
   ]
  },
  {
   "cell_type": "markdown",
   "metadata": {},
   "source": [
    "## 5. Reference"
   ]
  },
  {
   "cell_type": "markdown",
   "metadata": {},
   "source": []
  }
 ],
 "metadata": {
  "kernelspec": {
   "display_name": "R",
   "language": "R",
   "name": "ir"
  },
  "language_info": {
   "codemirror_mode": "r",
   "file_extension": ".r",
   "mimetype": "text/x-r-source",
   "name": "R",
   "pygments_lexer": "r",
   "version": "4.4.2"
  }
 },
 "nbformat": 4,
 "nbformat_minor": 2
}
