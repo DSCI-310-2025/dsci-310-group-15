{
 "cells": [
  {
   "cell_type": "markdown",
   "metadata": {},
   "source": [
    "# Heart Attack Prediction in India"
   ]
  },
  {
   "cell_type": "markdown",
   "metadata": {},
   "source": [
    "## DSCI 310 Group Project"
   ]
  },
  {
   "cell_type": "markdown",
   "metadata": {},
   "source": [
    "## By: Chengyou Xiang, Junhao Wen, Peng Zhong, ZiXun Fang"
   ]
  },
  {
   "cell_type": "markdown",
   "metadata": {},
   "source": [
    "## 1. Summary"
   ]
  },
  {
   "cell_type": "markdown",
   "metadata": {},
   "source": [
    "## 2. Introduction"
   ]
  },
  {
   "cell_type": "markdown",
   "metadata": {},
   "source": []
  },
  {
   "cell_type": "markdown",
   "metadata": {},
   "source": [
    "### Background Information\n",
    "\n",
    "Heart attacks together with cardiovascular diseases rank as the main leading causes of global mortality statistics. The knowledge of heart attack risks serves essential purposes for both preventive measures and early treatment. Multiple researchstudies demonstrate that lifestyle choices and genetic characteristics along with pre-existing medical issues function as the main risk factors for heart attacks. The research requires deeper evaluation of heart attack risks in particular populations since regional background and demographic factors can create differences in risk factors."
   ]
  },
  {
   "cell_type": "markdown",
   "metadata": {},
   "source": [
    "### Dataset Overview\n",
    "The Heart Attack Risk & Prediction Dataset in India serves as an extensive data collection for studying heart attack risk variables that affect Indian individuals. The database contains different indicators about demographic profiles and lifestyle practices and medical background information which might affect heart attack probability. This research dataset enables scientists to discover leading risk indicators of heart attacks in Indians while creating predictive models for heart attack identification programs.\n",
    "\n",
    "The dataset includes 26 attributes:\n",
    "1. Patient ID\n",
    "2. State Name\n",
    "3. Age\n",
    "4. Gender\n",
    "5. Diabetes\n",
    "6. Hypertension\n",
    "7. Obesity\n",
    "8. Smoking\n",
    "9. Alcohol Consumption\n",
    "10. Physical Activity \n",
    "11. Diet Score\n",
    "12. Cholesterol Level\n",
    "13. Tryglyceride Level\n",
    "14. LDL Level\n",
    "15. HDL Level\n",
    "16. Systolic BP\n",
    "17. Diastolic BP\n",
    "18. Air Pollution Exposure\n",
    "19. Family History\n",
    "20. Stress Level\n",
    "21. Healthcare Access\n",
    "22. Heart Attack History\n",
    "23. Emergency Response Time\n",
    "24. Annual Income\n",
    "25. Health Insurance\n",
    "26. Heart Attack Risk"
   ]
  },
  {
   "cell_type": "markdown",
   "metadata": {},
   "source": [
    "### Research Question\n",
    "\n",
    "The primary research question we aim to answer is:\n",
    "##### Which factors are most strongly associated with heart attack risk?\n",
    "\n",
    "To address this, we will use statistical and machine learning techniques to identify the most significant predictors of heart attack risk from the dataset. "
   ]
  },
  {
   "cell_type": "markdown",
   "metadata": {},
   "source": [
    "### Literature Context\n",
    "\n",
    "Additionally, we will review existing literature on cardiovascular health, particularly studies that analyze heart attack risk factors in different populations. One relevant study is \"Number of years with obesity and incident heart failure among US adults (Ndumele, 2018).\" Research found that long-term obesity duration is an independent risk factor for heart damage, even in the absence of traditional risk factors like hypertension or diabetes. The longer an individual remains overweight or obese, the higher their risk of heart disease. \n",
    "\n",
    "Another research by WHO, \"Cardiovascular diseases\", examines how unhealthy lifestyle behaviors, including poor diet, physical inactivity, smoking, and excessive alcohol consumption, become major contributors to cardiovascular diseases (WHO, 2017). "
   ]
  },
  {
   "cell_type": "markdown",
   "metadata": {},
   "source": [
    "## 3. Methods & Results"
   ]
  },
  {
   "cell_type": "markdown",
   "metadata": {},
   "source": [
    "### Exploratory Data Analysis (EDA)"
   ]
  },
  {
   "cell_type": "markdown",
   "metadata": {},
   "source": []
  },
  {
   "cell_type": "code",
   "execution_count": 78,
   "metadata": {
    "vscode": {
     "languageId": "r"
    }
   },
   "outputs": [
    {
     "name": "stderr",
     "output_type": "stream",
     "text": [
      "Warning message:\n",
      "\"packages 'tidyverse', 'repr', 'broom', 'GGally', 'glmnet', 'corrplot', 'car', 'caret', 'randomForest' are in use and will not be installed\"\n"
     ]
    }
   ],
   "source": [
    "install.packages(c(\"tidyverse\", \"repr\", \"broom\", \"GGally\", \"glmnet\", \"corrplot\", \"car\", \"caret\", \"randomForest\"))"
   ]
  },
  {
   "cell_type": "code",
   "execution_count": 79,
   "metadata": {
    "vscode": {
     "languageId": "r"
    }
   },
   "outputs": [],
   "source": [
    "library(tidyverse)\n",
    "library(repr)\n",
    "library(broom)\n",
    "library(GGally)\n",
    "library(glmnet)\n",
    "library(dplyr)\n",
    "library(ggplot2)\n",
    "library(corrplot)\n",
    "library(car)\n",
    "library(caret)\n",
    "library(pROC)\n",
    "library(randomForest)"
   ]
  },
  {
   "cell_type": "code",
   "execution_count": 48,
   "metadata": {
    "vscode": {
     "languageId": "r"
    }
   },
   "outputs": [
    {
     "name": "stderr",
     "output_type": "stream",
     "text": [
      "\u001b[1mRows: \u001b[22m\u001b[34m10000\u001b[39m \u001b[1mColumns: \u001b[22m\u001b[34m26\u001b[39m\n",
      "\u001b[36m──\u001b[39m \u001b[1mColumn specification\u001b[22m \u001b[36m────────────────────────────────────────────────────────\u001b[39m\n",
      "\u001b[1mDelimiter:\u001b[22m \",\"\n",
      "\u001b[31mchr\u001b[39m  (2): State_Name, Gender\n",
      "\u001b[32mdbl\u001b[39m (24): Patient_ID, Age, Diabetes, Hypertension, Obesity, Smoking, Alcohol...\n",
      "\n",
      "\u001b[36mℹ\u001b[39m Use `spec()` to retrieve the full column specification for this data.\n",
      "\u001b[36mℹ\u001b[39m Specify the column types or set `show_col_types = FALSE` to quiet this message.\n"
     ]
    }
   ],
   "source": [
    "heart_attack_data <- read_csv(\"data/heart_attack_prediction_india.csv\")"
   ]
  },
  {
   "cell_type": "code",
   "execution_count": 49,
   "metadata": {
    "vscode": {
     "languageId": "r"
    }
   },
   "outputs": [
    {
     "data": {
      "text/html": [
       "<style>\n",
       ".dl-inline {width: auto; margin:0; padding: 0}\n",
       ".dl-inline>dt, .dl-inline>dd {float: none; width: auto; display: inline-block}\n",
       ".dl-inline>dt::after {content: \":\\0020\"; padding-right: .5ex}\n",
       ".dl-inline>dt:not(:first-of-type) {padding-left: .5ex}\n",
       "</style><dl class=dl-inline><dt>Patient_ID</dt><dd>0</dd><dt>State_Name</dt><dd>0</dd><dt>Age</dt><dd>0</dd><dt>Gender</dt><dd>0</dd><dt>Diabetes</dt><dd>0</dd><dt>Hypertension</dt><dd>0</dd><dt>Obesity</dt><dd>0</dd><dt>Smoking</dt><dd>0</dd><dt>Alcohol_Consumption</dt><dd>0</dd><dt>Physical_Activity</dt><dd>0</dd><dt>Diet_Score</dt><dd>0</dd><dt>Cholesterol_Level</dt><dd>0</dd><dt>Triglyceride_Level</dt><dd>0</dd><dt>LDL_Level</dt><dd>0</dd><dt>HDL_Level</dt><dd>0</dd><dt>Systolic_BP</dt><dd>0</dd><dt>Diastolic_BP</dt><dd>0</dd><dt>Air_Pollution_Exposure</dt><dd>0</dd><dt>Family_History</dt><dd>0</dd><dt>Stress_Level</dt><dd>0</dd><dt>Healthcare_Access</dt><dd>0</dd><dt>Heart_Attack_History</dt><dd>0</dd><dt>Emergency_Response_Time</dt><dd>0</dd><dt>Annual_Income</dt><dd>0</dd><dt>Health_Insurance</dt><dd>0</dd><dt>Heart_Attack_Risk</dt><dd>0</dd></dl>\n"
      ],
      "text/latex": [
       "\\begin{description*}\n",
       "\\item[Patient\\textbackslash{}\\_ID] 0\n",
       "\\item[State\\textbackslash{}\\_Name] 0\n",
       "\\item[Age] 0\n",
       "\\item[Gender] 0\n",
       "\\item[Diabetes] 0\n",
       "\\item[Hypertension] 0\n",
       "\\item[Obesity] 0\n",
       "\\item[Smoking] 0\n",
       "\\item[Alcohol\\textbackslash{}\\_Consumption] 0\n",
       "\\item[Physical\\textbackslash{}\\_Activity] 0\n",
       "\\item[Diet\\textbackslash{}\\_Score] 0\n",
       "\\item[Cholesterol\\textbackslash{}\\_Level] 0\n",
       "\\item[Triglyceride\\textbackslash{}\\_Level] 0\n",
       "\\item[LDL\\textbackslash{}\\_Level] 0\n",
       "\\item[HDL\\textbackslash{}\\_Level] 0\n",
       "\\item[Systolic\\textbackslash{}\\_BP] 0\n",
       "\\item[Diastolic\\textbackslash{}\\_BP] 0\n",
       "\\item[Air\\textbackslash{}\\_Pollution\\textbackslash{}\\_Exposure] 0\n",
       "\\item[Family\\textbackslash{}\\_History] 0\n",
       "\\item[Stress\\textbackslash{}\\_Level] 0\n",
       "\\item[Healthcare\\textbackslash{}\\_Access] 0\n",
       "\\item[Heart\\textbackslash{}\\_Attack\\textbackslash{}\\_History] 0\n",
       "\\item[Emergency\\textbackslash{}\\_Response\\textbackslash{}\\_Time] 0\n",
       "\\item[Annual\\textbackslash{}\\_Income] 0\n",
       "\\item[Health\\textbackslash{}\\_Insurance] 0\n",
       "\\item[Heart\\textbackslash{}\\_Attack\\textbackslash{}\\_Risk] 0\n",
       "\\end{description*}\n"
      ],
      "text/markdown": [
       "Patient_ID\n",
       ":   0State_Name\n",
       ":   0Age\n",
       ":   0Gender\n",
       ":   0Diabetes\n",
       ":   0Hypertension\n",
       ":   0Obesity\n",
       ":   0Smoking\n",
       ":   0Alcohol_Consumption\n",
       ":   0Physical_Activity\n",
       ":   0Diet_Score\n",
       ":   0Cholesterol_Level\n",
       ":   0Triglyceride_Level\n",
       ":   0LDL_Level\n",
       ":   0HDL_Level\n",
       ":   0Systolic_BP\n",
       ":   0Diastolic_BP\n",
       ":   0Air_Pollution_Exposure\n",
       ":   0Family_History\n",
       ":   0Stress_Level\n",
       ":   0Healthcare_Access\n",
       ":   0Heart_Attack_History\n",
       ":   0Emergency_Response_Time\n",
       ":   0Annual_Income\n",
       ":   0Health_Insurance\n",
       ":   0Heart_Attack_Risk\n",
       ":   0\n",
       "\n"
      ],
      "text/plain": [
       "             Patient_ID              State_Name                     Age \n",
       "                      0                       0                       0 \n",
       "                 Gender                Diabetes            Hypertension \n",
       "                      0                       0                       0 \n",
       "                Obesity                 Smoking     Alcohol_Consumption \n",
       "                      0                       0                       0 \n",
       "      Physical_Activity              Diet_Score       Cholesterol_Level \n",
       "                      0                       0                       0 \n",
       "     Triglyceride_Level               LDL_Level               HDL_Level \n",
       "                      0                       0                       0 \n",
       "            Systolic_BP            Diastolic_BP  Air_Pollution_Exposure \n",
       "                      0                       0                       0 \n",
       "         Family_History            Stress_Level       Healthcare_Access \n",
       "                      0                       0                       0 \n",
       "   Heart_Attack_History Emergency_Response_Time           Annual_Income \n",
       "                      0                       0                       0 \n",
       "       Health_Insurance       Heart_Attack_Risk \n",
       "                      0                       0 "
      ]
     },
     "metadata": {},
     "output_type": "display_data"
    }
   ],
   "source": [
    "colSums(is.na(heart_attack_data))"
   ]
  },
  {
   "cell_type": "code",
   "execution_count": 50,
   "metadata": {
    "vscode": {
     "languageId": "r"
    }
   },
   "outputs": [
    {
     "name": "stdout",
     "output_type": "stream",
     "text": [
      "spc_tbl_ [10,000 × 26] (S3: spec_tbl_df/tbl_df/tbl/data.frame)\n",
      " $ Patient_ID             : num [1:10000] 1 2 3 4 5 6 7 8 9 10 ...\n",
      " $ State_Name             : chr [1:10000] \"Rajasthan\" \"Himachal Pradesh\" \"Assam\" \"Odisha\" ...\n",
      " $ Age                    : num [1:10000] 42 26 78 58 22 31 26 68 45 52 ...\n",
      " $ Gender                 : chr [1:10000] \"Female\" \"Male\" \"Male\" \"Male\" ...\n",
      " $ Diabetes               : num [1:10000] 0 0 0 1 0 0 0 0 0 1 ...\n",
      " $ Hypertension           : num [1:10000] 0 0 0 0 0 0 0 0 0 0 ...\n",
      " $ Obesity                : num [1:10000] 1 0 1 1 0 0 0 1 0 0 ...\n",
      " $ Smoking                : num [1:10000] 1 0 0 0 0 0 0 0 0 1 ...\n",
      " $ Alcohol_Consumption    : num [1:10000] 0 1 0 0 0 0 0 0 0 0 ...\n",
      " $ Physical_Activity      : num [1:10000] 0 1 1 1 1 0 0 0 0 0 ...\n",
      " $ Diet_Score             : num [1:10000] 9 4 6 9 5 7 9 2 3 1 ...\n",
      " $ Cholesterol_Level      : num [1:10000] 248 272 268 224 277 188 210 160 264 167 ...\n",
      " $ Triglyceride_Level     : num [1:10000] 125 51 213 250 129 218 155 275 242 174 ...\n",
      " $ LDL_Level              : num [1:10000] 93 153 130 130 150 105 174 165 170 98 ...\n",
      " $ HDL_Level              : num [1:10000] 42 47 54 79 23 22 60 72 76 74 ...\n",
      " $ Systolic_BP            : num [1:10000] 93 134 104 91 141 110 156 157 158 166 ...\n",
      " $ Diastolic_BP           : num [1:10000] 119 115 117 65 109 97 77 60 67 108 ...\n",
      " $ Air_Pollution_Exposure : num [1:10000] 1 0 0 0 0 0 1 0 0 0 ...\n",
      " $ Family_History         : num [1:10000] 0 0 1 0 0 1 0 0 0 0 ...\n",
      " $ Stress_Level           : num [1:10000] 4 7 10 1 9 3 6 10 7 6 ...\n",
      " $ Healthcare_Access      : num [1:10000] 0 0 1 1 0 0 0 0 0 1 ...\n",
      " $ Heart_Attack_History   : num [1:10000] 0 0 0 1 0 0 0 0 0 1 ...\n",
      " $ Emergency_Response_Time: num [1:10000] 157 331 186 324 209 93 356 146 351 224 ...\n",
      " $ Annual_Income          : num [1:10000] 611025 174527 1760112 1398213 97987 ...\n",
      " $ Health_Insurance       : num [1:10000] 0 0 1 0 0 0 1 1 0 1 ...\n",
      " $ Heart_Attack_Risk      : num [1:10000] 0 0 0 0 1 0 0 0 0 0 ...\n",
      " - attr(*, \"spec\")=\n",
      "  .. cols(\n",
      "  ..   Patient_ID = \u001b[32mcol_double()\u001b[39m,\n",
      "  ..   State_Name = \u001b[31mcol_character()\u001b[39m,\n",
      "  ..   Age = \u001b[32mcol_double()\u001b[39m,\n",
      "  ..   Gender = \u001b[31mcol_character()\u001b[39m,\n",
      "  ..   Diabetes = \u001b[32mcol_double()\u001b[39m,\n",
      "  ..   Hypertension = \u001b[32mcol_double()\u001b[39m,\n",
      "  ..   Obesity = \u001b[32mcol_double()\u001b[39m,\n",
      "  ..   Smoking = \u001b[32mcol_double()\u001b[39m,\n",
      "  ..   Alcohol_Consumption = \u001b[32mcol_double()\u001b[39m,\n",
      "  ..   Physical_Activity = \u001b[32mcol_double()\u001b[39m,\n",
      "  ..   Diet_Score = \u001b[32mcol_double()\u001b[39m,\n",
      "  ..   Cholesterol_Level = \u001b[32mcol_double()\u001b[39m,\n",
      "  ..   Triglyceride_Level = \u001b[32mcol_double()\u001b[39m,\n",
      "  ..   LDL_Level = \u001b[32mcol_double()\u001b[39m,\n",
      "  ..   HDL_Level = \u001b[32mcol_double()\u001b[39m,\n",
      "  ..   Systolic_BP = \u001b[32mcol_double()\u001b[39m,\n",
      "  ..   Diastolic_BP = \u001b[32mcol_double()\u001b[39m,\n",
      "  ..   Air_Pollution_Exposure = \u001b[32mcol_double()\u001b[39m,\n",
      "  ..   Family_History = \u001b[32mcol_double()\u001b[39m,\n",
      "  ..   Stress_Level = \u001b[32mcol_double()\u001b[39m,\n",
      "  ..   Healthcare_Access = \u001b[32mcol_double()\u001b[39m,\n",
      "  ..   Heart_Attack_History = \u001b[32mcol_double()\u001b[39m,\n",
      "  ..   Emergency_Response_Time = \u001b[32mcol_double()\u001b[39m,\n",
      "  ..   Annual_Income = \u001b[32mcol_double()\u001b[39m,\n",
      "  ..   Health_Insurance = \u001b[32mcol_double()\u001b[39m,\n",
      "  ..   Heart_Attack_Risk = \u001b[32mcol_double()\u001b[39m\n",
      "  .. )\n",
      " - attr(*, \"problems\")=<externalptr> \n"
     ]
    }
   ],
   "source": [
    "str(heart_attack_data)"
   ]
  },
  {
   "cell_type": "code",
   "execution_count": 51,
   "metadata": {
    "vscode": {
     "languageId": "r"
    }
   },
   "outputs": [
    {
     "data": {
      "text/html": [
       "<table class=\"dataframe\">\n",
       "<caption>A tibble: 6 × 23</caption>\n",
       "<thead>\n",
       "\t<tr><th scope=col>Age</th><th scope=col>Diabetes</th><th scope=col>Hypertension</th><th scope=col>Obesity</th><th scope=col>Smoking</th><th scope=col>Alcohol_Consumption</th><th scope=col>Physical_Activity</th><th scope=col>Diet_Score</th><th scope=col>Cholesterol_Level</th><th scope=col>Triglyceride_Level</th><th scope=col>⋯</th><th scope=col>Diastolic_BP</th><th scope=col>Air_Pollution_Exposure</th><th scope=col>Family_History</th><th scope=col>Stress_Level</th><th scope=col>Healthcare_Access</th><th scope=col>Heart_Attack_History</th><th scope=col>Emergency_Response_Time</th><th scope=col>Annual_Income</th><th scope=col>Health_Insurance</th><th scope=col>Heart_Attack_Risk</th></tr>\n",
       "\t<tr><th scope=col>&lt;dbl&gt;</th><th scope=col>&lt;fct&gt;</th><th scope=col>&lt;fct&gt;</th><th scope=col>&lt;fct&gt;</th><th scope=col>&lt;fct&gt;</th><th scope=col>&lt;fct&gt;</th><th scope=col>&lt;fct&gt;</th><th scope=col>&lt;dbl&gt;</th><th scope=col>&lt;dbl&gt;</th><th scope=col>&lt;dbl&gt;</th><th scope=col>⋯</th><th scope=col>&lt;dbl&gt;</th><th scope=col>&lt;fct&gt;</th><th scope=col>&lt;fct&gt;</th><th scope=col>&lt;dbl&gt;</th><th scope=col>&lt;dbl&gt;</th><th scope=col>&lt;fct&gt;</th><th scope=col>&lt;dbl&gt;</th><th scope=col>&lt;dbl&gt;</th><th scope=col>&lt;fct&gt;</th><th scope=col>&lt;dbl&gt;</th></tr>\n",
       "</thead>\n",
       "<tbody>\n",
       "\t<tr><td>42</td><td>0</td><td>0</td><td>1</td><td>1</td><td>0</td><td>0</td><td>9</td><td>248</td><td>125</td><td>⋯</td><td>119</td><td>1</td><td>0</td><td> 4</td><td>0</td><td>0</td><td>157</td><td> 611025</td><td>0</td><td>0</td></tr>\n",
       "\t<tr><td>26</td><td>0</td><td>0</td><td>0</td><td>0</td><td>1</td><td>1</td><td>4</td><td>272</td><td> 51</td><td>⋯</td><td>115</td><td>0</td><td>0</td><td> 7</td><td>0</td><td>0</td><td>331</td><td> 174527</td><td>0</td><td>0</td></tr>\n",
       "\t<tr><td>78</td><td>0</td><td>0</td><td>1</td><td>0</td><td>0</td><td>1</td><td>6</td><td>268</td><td>213</td><td>⋯</td><td>117</td><td>0</td><td>1</td><td>10</td><td>1</td><td>0</td><td>186</td><td>1760112</td><td>1</td><td>0</td></tr>\n",
       "\t<tr><td>58</td><td>1</td><td>0</td><td>1</td><td>0</td><td>0</td><td>1</td><td>9</td><td>224</td><td>250</td><td>⋯</td><td> 65</td><td>0</td><td>0</td><td> 1</td><td>1</td><td>1</td><td>324</td><td>1398213</td><td>0</td><td>0</td></tr>\n",
       "\t<tr><td>22</td><td>0</td><td>0</td><td>0</td><td>0</td><td>0</td><td>1</td><td>5</td><td>277</td><td>129</td><td>⋯</td><td>109</td><td>0</td><td>0</td><td> 9</td><td>0</td><td>0</td><td>209</td><td>  97987</td><td>0</td><td>1</td></tr>\n",
       "\t<tr><td>31</td><td>0</td><td>0</td><td>0</td><td>0</td><td>0</td><td>0</td><td>7</td><td>188</td><td>218</td><td>⋯</td><td> 97</td><td>0</td><td>1</td><td> 3</td><td>0</td><td>0</td><td> 93</td><td> 399442</td><td>0</td><td>0</td></tr>\n",
       "</tbody>\n",
       "</table>\n"
      ],
      "text/latex": [
       "A tibble: 6 × 23\n",
       "\\begin{tabular}{lllllllllllllllllllll}\n",
       " Age & Diabetes & Hypertension & Obesity & Smoking & Alcohol\\_Consumption & Physical\\_Activity & Diet\\_Score & Cholesterol\\_Level & Triglyceride\\_Level & ⋯ & Diastolic\\_BP & Air\\_Pollution\\_Exposure & Family\\_History & Stress\\_Level & Healthcare\\_Access & Heart\\_Attack\\_History & Emergency\\_Response\\_Time & Annual\\_Income & Health\\_Insurance & Heart\\_Attack\\_Risk\\\\\n",
       " <dbl> & <fct> & <fct> & <fct> & <fct> & <fct> & <fct> & <dbl> & <dbl> & <dbl> & ⋯ & <dbl> & <fct> & <fct> & <dbl> & <dbl> & <fct> & <dbl> & <dbl> & <fct> & <dbl>\\\\\n",
       "\\hline\n",
       "\t 42 & 0 & 0 & 1 & 1 & 0 & 0 & 9 & 248 & 125 & ⋯ & 119 & 1 & 0 &  4 & 0 & 0 & 157 &  611025 & 0 & 0\\\\\n",
       "\t 26 & 0 & 0 & 0 & 0 & 1 & 1 & 4 & 272 &  51 & ⋯ & 115 & 0 & 0 &  7 & 0 & 0 & 331 &  174527 & 0 & 0\\\\\n",
       "\t 78 & 0 & 0 & 1 & 0 & 0 & 1 & 6 & 268 & 213 & ⋯ & 117 & 0 & 1 & 10 & 1 & 0 & 186 & 1760112 & 1 & 0\\\\\n",
       "\t 58 & 1 & 0 & 1 & 0 & 0 & 1 & 9 & 224 & 250 & ⋯ &  65 & 0 & 0 &  1 & 1 & 1 & 324 & 1398213 & 0 & 0\\\\\n",
       "\t 22 & 0 & 0 & 0 & 0 & 0 & 1 & 5 & 277 & 129 & ⋯ & 109 & 0 & 0 &  9 & 0 & 0 & 209 &   97987 & 0 & 1\\\\\n",
       "\t 31 & 0 & 0 & 0 & 0 & 0 & 0 & 7 & 188 & 218 & ⋯ &  97 & 0 & 1 &  3 & 0 & 0 &  93 &  399442 & 0 & 0\\\\\n",
       "\\end{tabular}\n"
      ],
      "text/markdown": [
       "\n",
       "A tibble: 6 × 23\n",
       "\n",
       "| Age &lt;dbl&gt; | Diabetes &lt;fct&gt; | Hypertension &lt;fct&gt; | Obesity &lt;fct&gt; | Smoking &lt;fct&gt; | Alcohol_Consumption &lt;fct&gt; | Physical_Activity &lt;fct&gt; | Diet_Score &lt;dbl&gt; | Cholesterol_Level &lt;dbl&gt; | Triglyceride_Level &lt;dbl&gt; | ⋯ ⋯ | Diastolic_BP &lt;dbl&gt; | Air_Pollution_Exposure &lt;fct&gt; | Family_History &lt;fct&gt; | Stress_Level &lt;dbl&gt; | Healthcare_Access &lt;dbl&gt; | Heart_Attack_History &lt;fct&gt; | Emergency_Response_Time &lt;dbl&gt; | Annual_Income &lt;dbl&gt; | Health_Insurance &lt;fct&gt; | Heart_Attack_Risk &lt;dbl&gt; |\n",
       "|---|---|---|---|---|---|---|---|---|---|---|---|---|---|---|---|---|---|---|---|---|\n",
       "| 42 | 0 | 0 | 1 | 1 | 0 | 0 | 9 | 248 | 125 | ⋯ | 119 | 1 | 0 |  4 | 0 | 0 | 157 |  611025 | 0 | 0 |\n",
       "| 26 | 0 | 0 | 0 | 0 | 1 | 1 | 4 | 272 |  51 | ⋯ | 115 | 0 | 0 |  7 | 0 | 0 | 331 |  174527 | 0 | 0 |\n",
       "| 78 | 0 | 0 | 1 | 0 | 0 | 1 | 6 | 268 | 213 | ⋯ | 117 | 0 | 1 | 10 | 1 | 0 | 186 | 1760112 | 1 | 0 |\n",
       "| 58 | 1 | 0 | 1 | 0 | 0 | 1 | 9 | 224 | 250 | ⋯ |  65 | 0 | 0 |  1 | 1 | 1 | 324 | 1398213 | 0 | 0 |\n",
       "| 22 | 0 | 0 | 0 | 0 | 0 | 1 | 5 | 277 | 129 | ⋯ | 109 | 0 | 0 |  9 | 0 | 0 | 209 |   97987 | 0 | 1 |\n",
       "| 31 | 0 | 0 | 0 | 0 | 0 | 0 | 7 | 188 | 218 | ⋯ |  97 | 0 | 1 |  3 | 0 | 0 |  93 |  399442 | 0 | 0 |\n",
       "\n"
      ],
      "text/plain": [
       "  Age Diabetes Hypertension Obesity Smoking Alcohol_Consumption\n",
       "1 42  0        0            1       1       0                  \n",
       "2 26  0        0            0       0       1                  \n",
       "3 78  0        0            1       0       0                  \n",
       "4 58  1        0            1       0       0                  \n",
       "5 22  0        0            0       0       0                  \n",
       "6 31  0        0            0       0       0                  \n",
       "  Physical_Activity Diet_Score Cholesterol_Level Triglyceride_Level ⋯\n",
       "1 0                 9          248               125                ⋯\n",
       "2 1                 4          272                51                ⋯\n",
       "3 1                 6          268               213                ⋯\n",
       "4 1                 9          224               250                ⋯\n",
       "5 1                 5          277               129                ⋯\n",
       "6 0                 7          188               218                ⋯\n",
       "  Diastolic_BP Air_Pollution_Exposure Family_History Stress_Level\n",
       "1 119          1                      0               4          \n",
       "2 115          0                      0               7          \n",
       "3 117          0                      1              10          \n",
       "4  65          0                      0               1          \n",
       "5 109          0                      0               9          \n",
       "6  97          0                      1               3          \n",
       "  Healthcare_Access Heart_Attack_History Emergency_Response_Time Annual_Income\n",
       "1 0                 0                    157                      611025      \n",
       "2 0                 0                    331                      174527      \n",
       "3 1                 0                    186                     1760112      \n",
       "4 1                 1                    324                     1398213      \n",
       "5 0                 0                    209                       97987      \n",
       "6 0                 0                     93                      399442      \n",
       "  Health_Insurance Heart_Attack_Risk\n",
       "1 0                0                \n",
       "2 0                0                \n",
       "3 1                0                \n",
       "4 0                0                \n",
       "5 0                1                \n",
       "6 0                0                "
      ]
     },
     "metadata": {},
     "output_type": "display_data"
    }
   ],
   "source": [
    "heart_attack_data_clean <- heart_attack_data |>\n",
    "    select(-Patient_ID, -State_Name, -Gender) |>\n",
    "    mutate(\n",
    "        Diabetes = as.factor(Diabetes),\n",
    "        Hypertension = as.factor(Hypertension),\n",
    "        Obesity = as.factor(Obesity),\n",
    "        Smoking = as.factor(Smoking),\n",
    "        Alcohol_Consumption = as.factor(Alcohol_Consumption),\n",
    "        Physical_Activity = as.factor(Physical_Activity),\n",
    "        Air_Pollution_Exposure = as.factor(Air_Pollution_Exposure),\n",
    "        Family_History = as.factor(Family_History),\n",
    "        Heart_Attack_History = as.factor(Heart_Attack_History),\n",
    "        Health_Insurance = as.factor(Health_Insurance)\n",
    "        # Heart_Attack_Risk = as.factor(Heart_Attack_Risk)\n",
    "    )\n",
    "\n",
    "head(heart_attack_data_clean)"
   ]
  },
  {
   "cell_type": "code",
   "execution_count": 52,
   "metadata": {
    "vscode": {
     "languageId": "r"
    }
   },
   "outputs": [
    {
     "data": {
      "text/html": [
       "<table class=\"dataframe\">\n",
       "<caption>A tibble: 23 × 7</caption>\n",
       "<thead>\n",
       "\t<tr><th scope=col>term</th><th scope=col>estimate</th><th scope=col>std.error</th><th scope=col>statistic</th><th scope=col>p.value</th><th scope=col>conf.low</th><th scope=col>conf.high</th></tr>\n",
       "\t<tr><th scope=col>&lt;chr&gt;</th><th scope=col>&lt;dbl&gt;</th><th scope=col>&lt;dbl&gt;</th><th scope=col>&lt;dbl&gt;</th><th scope=col>&lt;dbl&gt;</th><th scope=col>&lt;dbl&gt;</th><th scope=col>&lt;dbl&gt;</th></tr>\n",
       "</thead>\n",
       "<tbody>\n",
       "\t<tr><td>(Intercept)            </td><td>-1.04</td><td>0.25</td><td>-4.15</td><td>0.00</td><td>-1.53</td><td>-0.55</td></tr>\n",
       "\t<tr><td>Age                    </td><td> 0.00</td><td>0.00</td><td> 1.64</td><td>0.10</td><td> 0.00</td><td> 0.00</td></tr>\n",
       "\t<tr><td>Diabetes1              </td><td>-0.07</td><td>0.08</td><td>-0.95</td><td>0.34</td><td>-0.22</td><td> 0.08</td></tr>\n",
       "\t<tr><td>Hypertension1          </td><td>-0.01</td><td>0.05</td><td>-0.16</td><td>0.87</td><td>-0.11</td><td> 0.09</td></tr>\n",
       "\t<tr><td>Obesity1               </td><td>-0.01</td><td>0.05</td><td>-0.27</td><td>0.79</td><td>-0.11</td><td> 0.08</td></tr>\n",
       "\t<tr><td>Smoking1               </td><td>-0.06</td><td>0.05</td><td>-1.26</td><td>0.21</td><td>-0.15</td><td> 0.03</td></tr>\n",
       "\t<tr><td>Alcohol_Consumption1   </td><td>-0.08</td><td>0.05</td><td>-1.80</td><td>0.07</td><td>-0.17</td><td> 0.01</td></tr>\n",
       "\t<tr><td>Physical_Activity1     </td><td> 0.03</td><td>0.04</td><td> 0.57</td><td>0.57</td><td>-0.06</td><td> 0.11</td></tr>\n",
       "\t<tr><td>Diet_Score             </td><td> 0.01</td><td>0.01</td><td> 1.12</td><td>0.26</td><td>-0.01</td><td> 0.02</td></tr>\n",
       "\t<tr><td>Cholesterol_Level      </td><td> 0.00</td><td>0.00</td><td>-0.21</td><td>0.84</td><td> 0.00</td><td> 0.00</td></tr>\n",
       "\t<tr><td>Triglyceride_Level     </td><td> 0.00</td><td>0.00</td><td>-0.45</td><td>0.65</td><td> 0.00</td><td> 0.00</td></tr>\n",
       "\t<tr><td>LDL_Level              </td><td> 0.00</td><td>0.00</td><td> 2.13</td><td>0.03</td><td> 0.00</td><td> 0.00</td></tr>\n",
       "\t<tr><td>HDL_Level              </td><td> 0.00</td><td>0.00</td><td> 1.23</td><td>0.22</td><td> 0.00</td><td> 0.00</td></tr>\n",
       "\t<tr><td>Systolic_BP            </td><td> 0.00</td><td>0.00</td><td>-0.25</td><td>0.80</td><td> 0.00</td><td> 0.00</td></tr>\n",
       "\t<tr><td>Diastolic_BP           </td><td> 0.00</td><td>0.00</td><td>-0.45</td><td>0.65</td><td> 0.00</td><td> 0.00</td></tr>\n",
       "\t<tr><td>Air_Pollution_Exposure1</td><td>-0.03</td><td>0.04</td><td>-0.65</td><td>0.52</td><td>-0.12</td><td> 0.06</td></tr>\n",
       "\t<tr><td>Family_History1        </td><td> 0.01</td><td>0.05</td><td> 0.15</td><td>0.88</td><td>-0.09</td><td> 0.10</td></tr>\n",
       "\t<tr><td>Stress_Level           </td><td>-0.01</td><td>0.01</td><td>-1.28</td><td>0.20</td><td>-0.02</td><td> 0.01</td></tr>\n",
       "\t<tr><td>Healthcare_Access      </td><td>-0.06</td><td>0.05</td><td>-1.18</td><td>0.24</td><td>-0.15</td><td> 0.04</td></tr>\n",
       "\t<tr><td>Heart_Attack_History1  </td><td> 0.00</td><td>0.06</td><td>-0.04</td><td>0.97</td><td>-0.12</td><td> 0.12</td></tr>\n",
       "\t<tr><td>Emergency_Response_Time</td><td> 0.00</td><td>0.00</td><td> 1.53</td><td>0.13</td><td> 0.00</td><td> 0.00</td></tr>\n",
       "\t<tr><td>Annual_Income          </td><td> 0.00</td><td>0.00</td><td> 0.77</td><td>0.44</td><td> 0.00</td><td> 0.00</td></tr>\n",
       "\t<tr><td>Health_Insurance1      </td><td> 0.00</td><td>0.05</td><td> 0.03</td><td>0.97</td><td>-0.09</td><td> 0.09</td></tr>\n",
       "</tbody>\n",
       "</table>\n"
      ],
      "text/latex": [
       "A tibble: 23 × 7\n",
       "\\begin{tabular}{lllllll}\n",
       " term & estimate & std.error & statistic & p.value & conf.low & conf.high\\\\\n",
       " <chr> & <dbl> & <dbl> & <dbl> & <dbl> & <dbl> & <dbl>\\\\\n",
       "\\hline\n",
       "\t (Intercept)             & -1.04 & 0.25 & -4.15 & 0.00 & -1.53 & -0.55\\\\\n",
       "\t Age                     &  0.00 & 0.00 &  1.64 & 0.10 &  0.00 &  0.00\\\\\n",
       "\t Diabetes1               & -0.07 & 0.08 & -0.95 & 0.34 & -0.22 &  0.08\\\\\n",
       "\t Hypertension1           & -0.01 & 0.05 & -0.16 & 0.87 & -0.11 &  0.09\\\\\n",
       "\t Obesity1                & -0.01 & 0.05 & -0.27 & 0.79 & -0.11 &  0.08\\\\\n",
       "\t Smoking1                & -0.06 & 0.05 & -1.26 & 0.21 & -0.15 &  0.03\\\\\n",
       "\t Alcohol\\_Consumption1    & -0.08 & 0.05 & -1.80 & 0.07 & -0.17 &  0.01\\\\\n",
       "\t Physical\\_Activity1      &  0.03 & 0.04 &  0.57 & 0.57 & -0.06 &  0.11\\\\\n",
       "\t Diet\\_Score              &  0.01 & 0.01 &  1.12 & 0.26 & -0.01 &  0.02\\\\\n",
       "\t Cholesterol\\_Level       &  0.00 & 0.00 & -0.21 & 0.84 &  0.00 &  0.00\\\\\n",
       "\t Triglyceride\\_Level      &  0.00 & 0.00 & -0.45 & 0.65 &  0.00 &  0.00\\\\\n",
       "\t LDL\\_Level               &  0.00 & 0.00 &  2.13 & 0.03 &  0.00 &  0.00\\\\\n",
       "\t HDL\\_Level               &  0.00 & 0.00 &  1.23 & 0.22 &  0.00 &  0.00\\\\\n",
       "\t Systolic\\_BP             &  0.00 & 0.00 & -0.25 & 0.80 &  0.00 &  0.00\\\\\n",
       "\t Diastolic\\_BP            &  0.00 & 0.00 & -0.45 & 0.65 &  0.00 &  0.00\\\\\n",
       "\t Air\\_Pollution\\_Exposure1 & -0.03 & 0.04 & -0.65 & 0.52 & -0.12 &  0.06\\\\\n",
       "\t Family\\_History1         &  0.01 & 0.05 &  0.15 & 0.88 & -0.09 &  0.10\\\\\n",
       "\t Stress\\_Level            & -0.01 & 0.01 & -1.28 & 0.20 & -0.02 &  0.01\\\\\n",
       "\t Healthcare\\_Access       & -0.06 & 0.05 & -1.18 & 0.24 & -0.15 &  0.04\\\\\n",
       "\t Heart\\_Attack\\_History1   &  0.00 & 0.06 & -0.04 & 0.97 & -0.12 &  0.12\\\\\n",
       "\t Emergency\\_Response\\_Time &  0.00 & 0.00 &  1.53 & 0.13 &  0.00 &  0.00\\\\\n",
       "\t Annual\\_Income           &  0.00 & 0.00 &  0.77 & 0.44 &  0.00 &  0.00\\\\\n",
       "\t Health\\_Insurance1       &  0.00 & 0.05 &  0.03 & 0.97 & -0.09 &  0.09\\\\\n",
       "\\end{tabular}\n"
      ],
      "text/markdown": [
       "\n",
       "A tibble: 23 × 7\n",
       "\n",
       "| term &lt;chr&gt; | estimate &lt;dbl&gt; | std.error &lt;dbl&gt; | statistic &lt;dbl&gt; | p.value &lt;dbl&gt; | conf.low &lt;dbl&gt; | conf.high &lt;dbl&gt; |\n",
       "|---|---|---|---|---|---|---|\n",
       "| (Intercept)             | -1.04 | 0.25 | -4.15 | 0.00 | -1.53 | -0.55 |\n",
       "| Age                     |  0.00 | 0.00 |  1.64 | 0.10 |  0.00 |  0.00 |\n",
       "| Diabetes1               | -0.07 | 0.08 | -0.95 | 0.34 | -0.22 |  0.08 |\n",
       "| Hypertension1           | -0.01 | 0.05 | -0.16 | 0.87 | -0.11 |  0.09 |\n",
       "| Obesity1                | -0.01 | 0.05 | -0.27 | 0.79 | -0.11 |  0.08 |\n",
       "| Smoking1                | -0.06 | 0.05 | -1.26 | 0.21 | -0.15 |  0.03 |\n",
       "| Alcohol_Consumption1    | -0.08 | 0.05 | -1.80 | 0.07 | -0.17 |  0.01 |\n",
       "| Physical_Activity1      |  0.03 | 0.04 |  0.57 | 0.57 | -0.06 |  0.11 |\n",
       "| Diet_Score              |  0.01 | 0.01 |  1.12 | 0.26 | -0.01 |  0.02 |\n",
       "| Cholesterol_Level       |  0.00 | 0.00 | -0.21 | 0.84 |  0.00 |  0.00 |\n",
       "| Triglyceride_Level      |  0.00 | 0.00 | -0.45 | 0.65 |  0.00 |  0.00 |\n",
       "| LDL_Level               |  0.00 | 0.00 |  2.13 | 0.03 |  0.00 |  0.00 |\n",
       "| HDL_Level               |  0.00 | 0.00 |  1.23 | 0.22 |  0.00 |  0.00 |\n",
       "| Systolic_BP             |  0.00 | 0.00 | -0.25 | 0.80 |  0.00 |  0.00 |\n",
       "| Diastolic_BP            |  0.00 | 0.00 | -0.45 | 0.65 |  0.00 |  0.00 |\n",
       "| Air_Pollution_Exposure1 | -0.03 | 0.04 | -0.65 | 0.52 | -0.12 |  0.06 |\n",
       "| Family_History1         |  0.01 | 0.05 |  0.15 | 0.88 | -0.09 |  0.10 |\n",
       "| Stress_Level            | -0.01 | 0.01 | -1.28 | 0.20 | -0.02 |  0.01 |\n",
       "| Healthcare_Access       | -0.06 | 0.05 | -1.18 | 0.24 | -0.15 |  0.04 |\n",
       "| Heart_Attack_History1   |  0.00 | 0.06 | -0.04 | 0.97 | -0.12 |  0.12 |\n",
       "| Emergency_Response_Time |  0.00 | 0.00 |  1.53 | 0.13 |  0.00 |  0.00 |\n",
       "| Annual_Income           |  0.00 | 0.00 |  0.77 | 0.44 |  0.00 |  0.00 |\n",
       "| Health_Insurance1       |  0.00 | 0.05 |  0.03 | 0.97 | -0.09 |  0.09 |\n",
       "\n"
      ],
      "text/plain": [
       "   term                    estimate std.error statistic p.value conf.low\n",
       "1  (Intercept)             -1.04    0.25      -4.15     0.00    -1.53   \n",
       "2  Age                      0.00    0.00       1.64     0.10     0.00   \n",
       "3  Diabetes1               -0.07    0.08      -0.95     0.34    -0.22   \n",
       "4  Hypertension1           -0.01    0.05      -0.16     0.87    -0.11   \n",
       "5  Obesity1                -0.01    0.05      -0.27     0.79    -0.11   \n",
       "6  Smoking1                -0.06    0.05      -1.26     0.21    -0.15   \n",
       "7  Alcohol_Consumption1    -0.08    0.05      -1.80     0.07    -0.17   \n",
       "8  Physical_Activity1       0.03    0.04       0.57     0.57    -0.06   \n",
       "9  Diet_Score               0.01    0.01       1.12     0.26    -0.01   \n",
       "10 Cholesterol_Level        0.00    0.00      -0.21     0.84     0.00   \n",
       "11 Triglyceride_Level       0.00    0.00      -0.45     0.65     0.00   \n",
       "12 LDL_Level                0.00    0.00       2.13     0.03     0.00   \n",
       "13 HDL_Level                0.00    0.00       1.23     0.22     0.00   \n",
       "14 Systolic_BP              0.00    0.00      -0.25     0.80     0.00   \n",
       "15 Diastolic_BP             0.00    0.00      -0.45     0.65     0.00   \n",
       "16 Air_Pollution_Exposure1 -0.03    0.04      -0.65     0.52    -0.12   \n",
       "17 Family_History1          0.01    0.05       0.15     0.88    -0.09   \n",
       "18 Stress_Level            -0.01    0.01      -1.28     0.20    -0.02   \n",
       "19 Healthcare_Access       -0.06    0.05      -1.18     0.24    -0.15   \n",
       "20 Heart_Attack_History1    0.00    0.06      -0.04     0.97    -0.12   \n",
       "21 Emergency_Response_Time  0.00    0.00       1.53     0.13     0.00   \n",
       "22 Annual_Income            0.00    0.00       0.77     0.44     0.00   \n",
       "23 Health_Insurance1        0.00    0.05       0.03     0.97    -0.09   \n",
       "   conf.high\n",
       "1  -0.55    \n",
       "2   0.00    \n",
       "3   0.08    \n",
       "4   0.09    \n",
       "5   0.08    \n",
       "6   0.03    \n",
       "7   0.01    \n",
       "8   0.11    \n",
       "9   0.02    \n",
       "10  0.00    \n",
       "11  0.00    \n",
       "12  0.00    \n",
       "13  0.00    \n",
       "14  0.00    \n",
       "15  0.00    \n",
       "16  0.06    \n",
       "17  0.10    \n",
       "18  0.01    \n",
       "19  0.04    \n",
       "20  0.12    \n",
       "21  0.00    \n",
       "22  0.00    \n",
       "23  0.09    "
      ]
     },
     "metadata": {},
     "output_type": "display_data"
    },
    {
     "data": {
      "text/plain": [
       "\n",
       "Call:\n",
       "glm(formula = Heart_Attack_Risk ~ ., family = binomial(link = \"logit\"), \n",
       "    data = heart_attack_data_clean)\n",
       "\n",
       "Coefficients:\n",
       "                          Estimate Std. Error z value Pr(>|z|)    \n",
       "(Intercept)             -1.037e+00  2.497e-01  -4.152  3.3e-05 ***\n",
       "Age                      2.072e-03  1.266e-03   1.637   0.1017    \n",
       "Diabetes1               -7.212e-02  7.616e-02  -0.947   0.3437    \n",
       "Hypertension1           -8.236e-03  5.073e-02  -0.162   0.8710    \n",
       "Obesity1                -1.278e-02  4.758e-02  -0.269   0.7882    \n",
       "Smoking1                -6.049e-02  4.787e-02  -1.264   0.2063    \n",
       "Alcohol_Consumption1    -8.261e-02  4.595e-02  -1.798   0.0722 .  \n",
       "Physical_Activity1       2.540e-02  4.461e-02   0.570   0.5690    \n",
       "Diet_Score               7.784e-03  6.920e-03   1.125   0.2606    \n",
       "Cholesterol_Level       -1.039e-04  5.042e-04  -0.206   0.8367    \n",
       "Triglyceride_Level      -1.378e-04  3.071e-04  -0.449   0.6535    \n",
       "LDL_Level                1.075e-03  5.038e-04   2.134   0.0328 *  \n",
       "HDL_Level                1.545e-03  1.256e-03   1.230   0.2186    \n",
       "Systolic_BP             -2.150e-04  8.453e-04  -0.254   0.7992    \n",
       "Diastolic_BP            -5.630e-04  1.256e-03  -0.448   0.6541    \n",
       "Air_Pollution_Exposure1 -2.883e-02  4.459e-02  -0.647   0.5179    \n",
       "Family_History1          7.191e-03  4.716e-02   0.152   0.8788    \n",
       "Stress_Level            -9.791e-03  7.631e-03  -1.283   0.1995    \n",
       "Healthcare_Access       -5.575e-02  4.743e-02  -1.175   0.2399    \n",
       "Heart_Attack_History1   -2.298e-03  6.078e-02  -0.038   0.9698    \n",
       "Emergency_Response_Time  2.971e-04  1.944e-04   1.528   0.1265    \n",
       "Annual_Income            2.988e-08  3.898e-08   0.767   0.4433    \n",
       "Health_Insurance1        1.598e-03  4.597e-02   0.035   0.9723    \n",
       "---\n",
       "Signif. codes:  0 '***' 0.001 '**' 0.01 '*' 0.05 '.' 0.1 ' ' 1\n",
       "\n",
       "(Dispersion parameter for binomial family taken to be 1)\n",
       "\n",
       "    Null deviance: 12229  on 9999  degrees of freedom\n",
       "Residual deviance: 12207  on 9977  degrees of freedom\n",
       "AIC: 12253\n",
       "\n",
       "Number of Fisher Scoring iterations: 4\n"
      ]
     },
     "metadata": {},
     "output_type": "display_data"
    }
   ],
   "source": [
    "heart_attack_model <- glm(Heart_Attack_Risk ~ .,\n",
    "    data = heart_attack_data_clean,\n",
    "    family = binomial(link = 'logit'))\n",
    "\n",
    "heart_attack_model_result <- \n",
    "    tidy(heart_attack_model, conf.int = TRUE) |>\n",
    "    mutate_if(is.numeric, round, 2)\n",
    "\n",
    "heart_attack_model_result\n",
    "summary(heart_attack_model)"
   ]
  },
  {
   "cell_type": "code",
   "execution_count": 53,
   "metadata": {
    "vscode": {
     "languageId": "r"
    }
   },
   "outputs": [
    {
     "data": {
      "text/html": [
       "<style>\n",
       ".list-inline {list-style: none; margin:0; padding: 0}\n",
       ".list-inline>li {display: inline-block}\n",
       ".list-inline>li:not(:last-child)::after {content: \"\\00b7\"; padding: 0 .5ex}\n",
       "</style>\n",
       "<ol class=list-inline><li>'Age'</li><li>'Alcohol_Consumption1'</li><li>'LDL_Level'</li><li>'Emergency_Response_Time'</li></ol>\n"
      ],
      "text/latex": [
       "\\begin{enumerate*}\n",
       "\\item 'Age'\n",
       "\\item 'Alcohol\\_Consumption1'\n",
       "\\item 'LDL\\_Level'\n",
       "\\item 'Emergency\\_Response\\_Time'\n",
       "\\end{enumerate*}\n"
      ],
      "text/markdown": [
       "1. 'Age'\n",
       "2. 'Alcohol_Consumption1'\n",
       "3. 'LDL_Level'\n",
       "4. 'Emergency_Response_Time'\n",
       "\n",
       "\n"
      ],
      "text/plain": [
       "[1] \"Age\"                     \"Alcohol_Consumption1\"   \n",
       "[3] \"LDL_Level\"               \"Emergency_Response_Time\""
      ]
     },
     "metadata": {},
     "output_type": "display_data"
    }
   ],
   "source": [
    "significant_vars <- tidy(heart_attack_model) |>\n",
    "    filter(term != \"(Intercept)\" & p.value < 0.15) |>\n",
    "    pull(term)\n",
    "significant_vars"
   ]
  },
  {
   "cell_type": "code",
   "execution_count": 54,
   "metadata": {
    "vscode": {
     "languageId": "r"
    }
   },
   "outputs": [
    {
     "data": {
      "text/html": [
       "<table class=\"dataframe\">\n",
       "<caption>A tibble: 6 × 5</caption>\n",
       "<thead>\n",
       "\t<tr><th scope=col>Age</th><th scope=col>Alcohol_Consumption</th><th scope=col>LDL_Level</th><th scope=col>Emergency_Response_Time</th><th scope=col>Heart_Attack_Risk</th></tr>\n",
       "\t<tr><th scope=col>&lt;dbl&gt;</th><th scope=col>&lt;fct&gt;</th><th scope=col>&lt;dbl&gt;</th><th scope=col>&lt;dbl&gt;</th><th scope=col>&lt;dbl&gt;</th></tr>\n",
       "</thead>\n",
       "<tbody>\n",
       "\t<tr><td>42</td><td>0</td><td> 93</td><td>157</td><td>0</td></tr>\n",
       "\t<tr><td>26</td><td>1</td><td>153</td><td>331</td><td>0</td></tr>\n",
       "\t<tr><td>78</td><td>0</td><td>130</td><td>186</td><td>0</td></tr>\n",
       "\t<tr><td>58</td><td>0</td><td>130</td><td>324</td><td>0</td></tr>\n",
       "\t<tr><td>22</td><td>0</td><td>150</td><td>209</td><td>1</td></tr>\n",
       "\t<tr><td>31</td><td>0</td><td>105</td><td> 93</td><td>0</td></tr>\n",
       "</tbody>\n",
       "</table>\n"
      ],
      "text/latex": [
       "A tibble: 6 × 5\n",
       "\\begin{tabular}{lllll}\n",
       " Age & Alcohol\\_Consumption & LDL\\_Level & Emergency\\_Response\\_Time & Heart\\_Attack\\_Risk\\\\\n",
       " <dbl> & <fct> & <dbl> & <dbl> & <dbl>\\\\\n",
       "\\hline\n",
       "\t 42 & 0 &  93 & 157 & 0\\\\\n",
       "\t 26 & 1 & 153 & 331 & 0\\\\\n",
       "\t 78 & 0 & 130 & 186 & 0\\\\\n",
       "\t 58 & 0 & 130 & 324 & 0\\\\\n",
       "\t 22 & 0 & 150 & 209 & 1\\\\\n",
       "\t 31 & 0 & 105 &  93 & 0\\\\\n",
       "\\end{tabular}\n"
      ],
      "text/markdown": [
       "\n",
       "A tibble: 6 × 5\n",
       "\n",
       "| Age &lt;dbl&gt; | Alcohol_Consumption &lt;fct&gt; | LDL_Level &lt;dbl&gt; | Emergency_Response_Time &lt;dbl&gt; | Heart_Attack_Risk &lt;dbl&gt; |\n",
       "|---|---|---|---|---|\n",
       "| 42 | 0 |  93 | 157 | 0 |\n",
       "| 26 | 1 | 153 | 331 | 0 |\n",
       "| 78 | 0 | 130 | 186 | 0 |\n",
       "| 58 | 0 | 130 | 324 | 0 |\n",
       "| 22 | 0 | 150 | 209 | 1 |\n",
       "| 31 | 0 | 105 |  93 | 0 |\n",
       "\n"
      ],
      "text/plain": [
       "  Age Alcohol_Consumption LDL_Level Emergency_Response_Time Heart_Attack_Risk\n",
       "1 42  0                    93       157                     0                \n",
       "2 26  1                   153       331                     0                \n",
       "3 78  0                   130       186                     0                \n",
       "4 58  0                   130       324                     0                \n",
       "5 22  0                   150       209                     1                \n",
       "6 31  0                   105        93                     0                "
      ]
     },
     "metadata": {},
     "output_type": "display_data"
    }
   ],
   "source": [
    "heart_attack_data_simplified <- heart_attack_data_clean |>\n",
    "    select(Age, Alcohol_Consumption, LDL_Level, Emergency_Response_Time, Heart_Attack_Risk)\n",
    "head(heart_attack_data_simplified)"
   ]
  },
  {
   "cell_type": "code",
   "execution_count": 55,
   "metadata": {
    "vscode": {
     "languageId": "r"
    }
   },
   "outputs": [
    {
     "name": "stderr",
     "output_type": "stream",
     "text": [
      "\u001b[1m\u001b[22m`stat_bin()` using `bins = 30`. Pick better value with `binwidth`.\n",
      "\u001b[1m\u001b[22m`stat_bin()` using `bins = 30`. Pick better value with `binwidth`.\n",
      "\u001b[1m\u001b[22m`stat_bin()` using `bins = 30`. Pick better value with `binwidth`.\n",
      "\u001b[1m\u001b[22m`stat_bin()` using `bins = 30`. Pick better value with `binwidth`.\n"
     ]
    },
    {
     "data": {
      "image/png": "[encoded data removed]",
      "text/plain": [
       "plot without title"
      ]
     },
     "metadata": {
      "image/png": {
       "height": 720,
       "width": 900
      }
     },
     "output_type": "display_data"
    }
   ],
   "source": [
    "options(repr.plot.width = 15, repr.plot.height=12)\n",
    "\n",
    "heart_attack_pair_plot <- heart_attack_data_simplified |>\n",
    "    ggpairs(progress = FALSE) +\n",
    "    theme(text = element_text(size = 15))\n",
    "\n",
    "heart_attack_pair_plot"
   ]
  },
  {
   "cell_type": "code",
   "execution_count": 56,
   "metadata": {
    "vscode": {
     "languageId": "r"
    }
   },
   "outputs": [
    {
     "data": {
      "image/png": "[encoded data removed]",
      "text/plain": [
       "plot without title"
      ]
     },
     "metadata": {
      "image/png": {
       "height": 720,
       "width": 900
      }
     },
     "output_type": "display_data"
    }
   ],
   "source": [
    "heart_attack_data_simplified <- heart_attack_data_simplified |>\n",
    "    mutate(\n",
    "        Alcohol_Consumption = as.numeric(Alcohol_Consumption),\n",
    "        Heart_Attack_Risk = as.numeric(Heart_Attack_Risk)\n",
    "    )\n",
    "\n",
    "plot_corr_matrix_heart_attact <-\n",
    "    heart_attack_data_simplified |>\n",
    "    cor() |>\n",
    "    as_tibble(rownames = 'var1') |>\n",
    "    pivot_longer(-var1, names_to = \"var2\", values_to = \"corr\") |>\n",
    "    ggplot(aes(x = var1, y = var2)) +\n",
    "    geom_tile(aes(fill = corr), color = \"white\") +\n",
    "    scale_fill_distiller(\"Correlation Coefficient \\n\", palette = \"YlOrRd\", direction = 1, limits = c(-1,1)) +\n",
    "    labs(x = \"\", y = \"\") +\n",
    "    theme_minimal() +\n",
    "    theme(\n",
    "        axis.text.x = element_text(angle = 45, vjust = 1, size = 14, hjust = 1),\n",
    "        axis.text.y = element_text(vjust = 1, size = 14, hjust = 1),\n",
    "        legend.title = element_text(size = 18),\n",
    "        legend.text = element_text(size = 12),\n",
    "        legend.key.size = unit(1.5, \"cm\")) +\n",
    "    coord_fixed() +\n",
    "    geom_text(aes(x = var1, y = var2, label = round(corr, 2)), color = \"black\", size = 6)\n",
    "\n",
    "\n",
    "plot_corr_matrix_heart_attact"
   ]
  },
  {
   "cell_type": "code",
   "execution_count": 57,
   "metadata": {
    "vscode": {
     "languageId": "r"
    }
   },
   "outputs": [
    {
     "data": {
      "text/plain": [
       "\n",
       "Call:\n",
       "glm(formula = Heart_Attack_Risk ~ ., family = binomial(link = \"logit\"), \n",
       "    data = heart_attack_data_simplified)\n",
       "\n",
       "Coefficients:\n",
       "                          Estimate Std. Error z value Pr(>|z|)    \n",
       "(Intercept)             -1.0311959  0.1179216  -8.745   <2e-16 ***\n",
       "Age                      0.0019851  0.0012628   1.572   0.1159    \n",
       "Alcohol_Consumption     -0.0789945  0.0458861  -1.722   0.0852 .  \n",
       "LDL_Level                0.0010743  0.0005029   2.136   0.0327 *  \n",
       "Emergency_Response_Time  0.0002994  0.0001942   1.542   0.1232    \n",
       "---\n",
       "Signif. codes:  0 '***' 0.001 '**' 0.01 '*' 0.05 '.' 0.1 ' ' 1\n",
       "\n",
       "(Dispersion parameter for binomial family taken to be 1)\n",
       "\n",
       "    Null deviance: 12229  on 9999  degrees of freedom\n",
       "Residual deviance: 12217  on 9995  degrees of freedom\n",
       "AIC: 12227\n",
       "\n",
       "Number of Fisher Scoring iterations: 4\n"
      ]
     },
     "metadata": {},
     "output_type": "display_data"
    }
   ],
   "source": [
    "# heart_attack_data_simplified <- heart_attack_data_simplified |>\n",
    "#     mutate(\n",
    "#         Alcohol_Consumption = as.factor(Alcohol_Consumption),\n",
    "#         Heart_Attack_Risk = as.factor(Heart_Attack_Risk)\n",
    "#     )\n",
    "\n",
    "heart_attack_simplified_model <- glm(\n",
    "    Heart_Attack_Risk ~ .,\n",
    "    data = heart_attack_data_simplified,\n",
    "    family = binomial(link = \"logit\")\n",
    ")\n",
    "\n",
    "summary(heart_attack_simplified_model)"
   ]
  },
  {
   "cell_type": "code",
   "execution_count": 58,
   "metadata": {
    "vscode": {
     "languageId": "r"
    }
   },
   "outputs": [
    {
     "data": {
      "text/html": [
       "<table class=\"dataframe\">\n",
       "<caption>A tibble: 6 × 5</caption>\n",
       "<thead>\n",
       "\t<tr><th scope=col>Age</th><th scope=col>Alcohol_Consumption</th><th scope=col>LDL_Level</th><th scope=col>Emergency_Response_Time</th><th scope=col>Heart_Attack_Risk</th></tr>\n",
       "\t<tr><th scope=col>&lt;dbl&gt;</th><th scope=col>&lt;dbl&gt;</th><th scope=col>&lt;dbl&gt;</th><th scope=col>&lt;dbl&gt;</th><th scope=col>&lt;dbl&gt;</th></tr>\n",
       "</thead>\n",
       "<tbody>\n",
       "\t<tr><td>42</td><td>1</td><td> 93</td><td>157</td><td>0</td></tr>\n",
       "\t<tr><td>26</td><td>2</td><td>153</td><td>331</td><td>0</td></tr>\n",
       "\t<tr><td>78</td><td>1</td><td>130</td><td>186</td><td>0</td></tr>\n",
       "\t<tr><td>58</td><td>1</td><td>130</td><td>324</td><td>0</td></tr>\n",
       "\t<tr><td>22</td><td>1</td><td>150</td><td>209</td><td>1</td></tr>\n",
       "\t<tr><td>31</td><td>1</td><td>105</td><td> 93</td><td>0</td></tr>\n",
       "</tbody>\n",
       "</table>\n"
      ],
      "text/latex": [
       "A tibble: 6 × 5\n",
       "\\begin{tabular}{lllll}\n",
       " Age & Alcohol\\_Consumption & LDL\\_Level & Emergency\\_Response\\_Time & Heart\\_Attack\\_Risk\\\\\n",
       " <dbl> & <dbl> & <dbl> & <dbl> & <dbl>\\\\\n",
       "\\hline\n",
       "\t 42 & 1 &  93 & 157 & 0\\\\\n",
       "\t 26 & 2 & 153 & 331 & 0\\\\\n",
       "\t 78 & 1 & 130 & 186 & 0\\\\\n",
       "\t 58 & 1 & 130 & 324 & 0\\\\\n",
       "\t 22 & 1 & 150 & 209 & 1\\\\\n",
       "\t 31 & 1 & 105 &  93 & 0\\\\\n",
       "\\end{tabular}\n"
      ],
      "text/markdown": [
       "\n",
       "A tibble: 6 × 5\n",
       "\n",
       "| Age &lt;dbl&gt; | Alcohol_Consumption &lt;dbl&gt; | LDL_Level &lt;dbl&gt; | Emergency_Response_Time &lt;dbl&gt; | Heart_Attack_Risk &lt;dbl&gt; |\n",
       "|---|---|---|---|---|\n",
       "| 42 | 1 |  93 | 157 | 0 |\n",
       "| 26 | 2 | 153 | 331 | 0 |\n",
       "| 78 | 1 | 130 | 186 | 0 |\n",
       "| 58 | 1 | 130 | 324 | 0 |\n",
       "| 22 | 1 | 150 | 209 | 1 |\n",
       "| 31 | 1 | 105 |  93 | 0 |\n",
       "\n"
      ],
      "text/plain": [
       "  Age Alcohol_Consumption LDL_Level Emergency_Response_Time Heart_Attack_Risk\n",
       "1 42  1                    93       157                     0                \n",
       "2 26  2                   153       331                     0                \n",
       "3 78  1                   130       186                     0                \n",
       "4 58  1                   130       324                     0                \n",
       "5 22  1                   150       209                     1                \n",
       "6 31  1                   105        93                     0                "
      ]
     },
     "metadata": {},
     "output_type": "display_data"
    }
   ],
   "source": [
    "head(heart_attack_data_simplified)"
   ]
  },
  {
   "cell_type": "code",
   "execution_count": 59,
   "metadata": {
    "vscode": {
     "languageId": "r"
    }
   },
   "outputs": [
    {
     "data": {
      "text/html": [
       "<style>\n",
       ".dl-inline {width: auto; margin:0; padding: 0}\n",
       ".dl-inline>dt, .dl-inline>dd {float: none; width: auto; display: inline-block}\n",
       ".dl-inline>dt::after {content: \":\\0020\"; padding-right: .5ex}\n",
       ".dl-inline>dt:not(:first-of-type) {padding-left: .5ex}\n",
       "</style><dl class=dl-inline><dt>Age</dt><dd>1.00010221725492</dd><dt>Alcohol_Consumption</dt><dd>1.00000260173259</dd><dt>LDL_Level</dt><dd>1.00007756510978</dd><dt>Emergency_Response_Time</dt><dd>1.00015148292751</dd></dl>\n"
      ],
      "text/latex": [
       "\\begin{description*}\n",
       "\\item[Age] 1.00010221725492\n",
       "\\item[Alcohol\\textbackslash{}\\_Consumption] 1.00000260173259\n",
       "\\item[LDL\\textbackslash{}\\_Level] 1.00007756510978\n",
       "\\item[Emergency\\textbackslash{}\\_Response\\textbackslash{}\\_Time] 1.00015148292751\n",
       "\\end{description*}\n"
      ],
      "text/markdown": [
       "Age\n",
       ":   1.00010221725492Alcohol_Consumption\n",
       ":   1.00000260173259LDL_Level\n",
       ":   1.00007756510978Emergency_Response_Time\n",
       ":   1.00015148292751\n",
       "\n"
      ],
      "text/plain": [
       "                    Age     Alcohol_Consumption               LDL_Level \n",
       "               1.000102                1.000003                1.000078 \n",
       "Emergency_Response_Time \n",
       "               1.000151 "
      ]
     },
     "metadata": {},
     "output_type": "display_data"
    }
   ],
   "source": [
    "vif(heart_attack_simplified_model)"
   ]
  },
  {
   "cell_type": "code",
   "execution_count": 60,
   "metadata": {
    "vscode": {
     "languageId": "r"
    }
   },
   "outputs": [],
   "source": [
    "set.seed(123)\n",
    "\n",
    "data_split <- createDataPartition(heart_attack_data_simplified$Heart_Attack_Risk,\n",
    "    p = 0.7, list = FALSE)\n",
    "train_data <- heart_attack_data_simplified[data_split, ]\n",
    "test_data <- heart_attack_data_simplified[data_split, ]"
   ]
  },
  {
   "cell_type": "code",
   "execution_count": 61,
   "metadata": {
    "vscode": {
     "languageId": "r"
    }
   },
   "outputs": [],
   "source": [
    "heart_attack_simplified_model <- glm(\n",
    "    Heart_Attack_Risk ~ .,\n",
    "    data = train_data,\n",
    "    family = binomial\n",
    ")"
   ]
  },
  {
   "cell_type": "code",
   "execution_count": 62,
   "metadata": {
    "vscode": {
     "languageId": "r"
    }
   },
   "outputs": [],
   "source": [
    "predicted_prob <- predict(heart_attack_simplified_model, newdata = test_data, type = \"response\")\n",
    "\n",
    "predicted_labels <- ifelse(predicted_prob > 0.5, 1, 0)"
   ]
  },
  {
   "cell_type": "code",
   "execution_count": 63,
   "metadata": {
    "vscode": {
     "languageId": "r"
    }
   },
   "outputs": [
    {
     "name": "stderr",
     "output_type": "stream",
     "text": [
      "Warning message in confusionMatrix.default(factor(predicted_labels), factor(test_data$Heart_Attack_Risk)):\n",
      "\"Levels are not in the same order for reference and data. Refactoring data to match.\"\n"
     ]
    },
    {
     "name": "stdout",
     "output_type": "stream",
     "text": [
      "Confusion Matrix and Statistics\n",
      "\n",
      "          Reference\n",
      "Prediction    0    1\n",
      "         0 4910 2090\n",
      "         1    0    0\n",
      "                                          \n",
      "               Accuracy : 0.7014          \n",
      "                 95% CI : (0.6906, 0.7121)\n",
      "    No Information Rate : 0.7014          \n",
      "    P-Value [Acc > NIR] : 0.5059          \n",
      "                                          \n",
      "                  Kappa : 0               \n",
      "                                          \n",
      " Mcnemar's Test P-Value : <2e-16          \n",
      "                                          \n",
      "            Sensitivity : 1.0000          \n",
      "            Specificity : 0.0000          \n",
      "         Pos Pred Value : 0.7014          \n",
      "         Neg Pred Value :    NaN          \n",
      "             Prevalence : 0.7014          \n",
      "         Detection Rate : 0.7014          \n",
      "   Detection Prevalence : 1.0000          \n",
      "      Balanced Accuracy : 0.5000          \n",
      "                                          \n",
      "       'Positive' Class : 0               \n",
      "                                          \n",
      "The model's accuracy is: 0.7014286 \n"
     ]
    }
   ],
   "source": [
    "confusion_matrix <- confusionMatrix(factor(predicted_labels), factor(test_data$Heart_Attack_Risk))\n",
    "print(confusion_matrix)\n",
    "\n",
    "accuracy <- confusion_matrix$overall[\"Accuracy\"]\n",
    "cat(\"The model's accuracy is:\", accuracy, \"\\n\")"
   ]
  },
  {
   "cell_type": "code",
   "execution_count": null,
   "metadata": {
    "vscode": {
     "languageId": "r"
    }
   },
   "outputs": [
    {
     "name": "stderr",
     "output_type": "stream",
     "text": [
      "Setting levels: control = 0, case = 1\n",
      "\n",
      "Setting direction: controls < cases\n",
      "\n"
     ]
    },
    {
     "name": "stdout",
     "output_type": "stream",
     "text": [
      "AUC Value: 0.5188081 \n"
     ]
    },
    {
     "data": {
      "image/png": "[encoded data removed]",
      "text/plain": [
       "Plot with title \"ROC Curve\""
      ]
     },
     "metadata": {
      "image/png": {
       "height": 720,
       "width": 900
      }
     },
     "output_type": "display_data"
    }
   ],
   "source": [
    "roc_curve <- roc(test_data$Heart_Attack_Risk, predicted_prob)\n",
    "plot(roc_curve, main  = \"ROC Curve of Simplified Model\", col = \"red\")\n",
    "\n",
    "auc_value <- auc(roc_curve)\n",
    "cat(\"AUC Value:\", auc_value, \"\\n\")"
   ]
  },
  {
   "cell_type": "markdown",
   "metadata": {},
   "source": [
    "### Random Forest Model"
   ]
  },
  {
   "cell_type": "code",
   "execution_count": null,
   "metadata": {
    "vscode": {
     "languageId": "r"
    }
   },
   "outputs": [
    {
     "name": "stderr",
     "output_type": "stream",
     "text": [
      "Warning message:\n",
      "\"package 'randomForest' is in use and will not be installed\"\n"
     ]
    },
    {
     "name": "stderr",
     "output_type": "stream",
     "text": [
      "Setting levels: control = 0, case = 1\n",
      "\n",
      "Setting direction: controls < cases\n",
      "\n"
     ]
    },
    {
     "name": "stdout",
     "output_type": "stream",
     "text": [
      "Random Forest AUC Value: 0.9071212 \n"
     ]
    },
    {
     "data": {
      "image/png": "[encoded data removed]",
      "text/plain": [
       "Plot with title \"Random Forest ROC\""
      ]
     },
     "metadata": {
      "image/png": {
       "height": 720,
       "width": 900
      }
     },
     "output_type": "display_data"
    }
   ],
   "source": [
    "# Random Forest Model\n",
    "\n",
    "train_data$Heart_Attack_Risk <- as.factor(train_data$Heart_Attack_Risk)\n",
    "test_data$Heart_Attack_Risk <- as.factor(test_data$Heart_Attack_Risk)\n",
    "\n",
    "set.seed(123)\n",
    "rf_model <- randomForest(\n",
    "    Heart_Attack_Risk ~ .,\n",
    "    data = train_data,\n",
    "    ntree = 150,\n",
    "    mtry = 1\n",
    ")\n",
    "\n",
    "predicted_prob_rf <- predict(rf_model, newdata = test_data, type = \"prob\")[, 2]\n",
    "\n",
    "roc_curve_rf <- roc(test_data$Heart_Attack_Risk, predicted_prob_rf)\n",
    "auc_value_rf <- auc(roc_curve_rf)\n",
    "cat(\"Random Forest AUC Value:\", auc_value_rf, \"\\n\")\n",
    "\n",
    "plot(roc_curve_rf, main = \"Random Forest ROC\", col = 'red', lwd = 2)"
   ]
  },
  {
   "cell_type": "markdown",
   "metadata": {},
   "source": [
    "## 4. Discussion"
   ]
  },
  {
   "cell_type": "markdown",
   "metadata": {},
   "source": [
    "## 5. Reference"
   ]
  },
  {
   "cell_type": "markdown",
   "metadata": {},
   "source": [
    "1. Ndumele, C. E., Matsushita, K., Lazo, M., Bello, N., Blumenthal, R. S., Gerstenblith, G., Nambi, V., Ballantyne, C. M., Solomon, S. D., Selvin, E., Folsom, A. R., & Coresh, J. (2014). Obesity, subclinical myocardial injury, and incident heart failure. JACC: Heart Failure, 2(6), 600–607.\n",
    "https://doi.org/10.1016/j.jchf.2014.05.017\n",
    "3. World Health Organization. (2017). Cardiovascular diseases (CVDs). Retrieved from https://www.who.int/news-room/fact-sheets/detail/cardiovascular-diseases-(cvds)"
   ]
  },
  {
   "cell_type": "code",
   "execution_count": null,
   "metadata": {
    "vscode": {
     "languageId": "r"
    }
   },
   "outputs": [],
   "source": []
  }
 ],
 "metadata": {
  "kernelspec": {
   "display_name": "R",
   "language": "R",
   "name": "ir"
  },
  "language_info": {
   "codemirror_mode": "r",
   "file_extension": ".r",
   "mimetype": "text/x-r-source",
   "name": "R",
   "pygments_lexer": "r",
   "version": "4.2.2"
  }
 },
 "nbformat": 4,
 "nbformat_minor": 4
}
